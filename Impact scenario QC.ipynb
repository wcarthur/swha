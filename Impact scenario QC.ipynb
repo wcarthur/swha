{
 "cells": [
  {
   "cell_type": "markdown",
   "metadata": {},
   "source": [
    "# Impact scenario quality control\n",
    "\n",
    "This notebook is intended to provide a review of the impact scenarios generated in the Severe Wind Hazard Assessment project. \n",
    "\n",
    "The impact results are generated using the [_HazImp_](https://github.com/GeoscienceAustralia/hazimp) tool, with TC wind footprints generated from [TCRM](https://github.com/GeoscienceAustralia/tcrm). Scenarios were selected in consultation with Department of Fire and Emergency Services (Western Australia) and the Bureau of Meteorology (Western Australia Regional Office).\n",
    "\n",
    "### Dependencies\n",
    "\n",
    "1. Numpy\n",
    "2. Pandas\n",
    "3. GeoPandas\n",
    "4. Matplotlib\n",
    "5. Seaborn\n",
    "6. HazImp\n",
    "\n",
    "NOTE: I have only successfully installed GeoPandas on a Python 3.6 installation (on a Windows environment). "
   ]
  },
  {
   "cell_type": "code",
   "execution_count": 1,
   "metadata": {
    "collapsed": true
   },
   "outputs": [],
   "source": [
    "%matplotlib inline\n",
    "\n",
    "import os \n",
    "from os.path import join as pjoin\n",
    "import numpy as np\n",
    "import pandas as pd\n",
    "import geopandas as gpd\n",
    "\n",
    "import matplotlib.pyplot as plt\n",
    "\n",
    "import seaborn as sns\n",
    "sns.set_context('notebook', rc={\"xtick.labelsize\":\"small\", \"ytick.labelsize\":\"small\"})\n",
    "sns.set_style('ticks')\n",
    "palette = sns.blend_palette([\"#5E6A71\", \"#006983\", \"#72C7E7\", \"#A33F1F\",\n",
    "                             \"#CA7700\", \"#A5D867\", \"#6E7645\"], 7)\n",
    "dmgpal = sns.blend_palette([(0.000, 0.627, 0.235), (0.412, 0.627, 0.235), \n",
    "                            (0.663, 0.780, 0.282), (0.957, 0.812, 0.000), \n",
    "                            (0.925, 0.643, 0.016), (0.835, 0.314, 0.118),\n",
    "                            (0.780, 0.086, 0.118)], 5)\n",
    "sns.set_palette(palette)"
   ]
  },
  {
   "cell_type": "markdown",
   "metadata": {},
   "source": [
    "The output files for the impact scenarios are stored in the project directory, and are stored as csv files. The vulnerability curves themselves are provided with the HazImp software, so we also import parts of the HazImp code."
   ]
  },
  {
   "cell_type": "code",
   "execution_count": 2,
   "metadata": {
    "collapsed": true
   },
   "outputs": [],
   "source": [
    "from core_hazimp.jobs.vulnerability_model import vuln_sets_from_xml_file"
   ]
  },
  {
   "cell_type": "markdown",
   "metadata": {},
   "source": [
    "The scenarios represent the impacts of category 3 and 5 cyclones on communities in WA's northern coastline. "
   ]
  },
  {
   "cell_type": "code",
   "execution_count": 3,
   "metadata": {
    "hide_input": true
   },
   "outputs": [],
   "source": [
    "nrows = 9\n",
    "ncols = 3\n",
    "hcell, wcell = 1., 1.5\n",
    "hpad, wpad = 0.2, 0.25\n",
    "f, ax = plt.subplots(figsize=((nrows*hcell+hpad), (ncols*wcell+wpad)))\n",
    "ax.axis('off')\n",
    "ax.xaxis.set_visible(False)\n",
    "ax.yaxis.set_visible(False)\n",
    "for sp, att in ax.spines.items():\n",
    "    att.set_color('w')\n",
    "    att.set_zorder(0)\n",
    "    \n",
    "titlestr = \"Event number | Location | Intensity \"\n",
    "columns = titlestr.split('|')\n",
    "cell_text = [columns]\n",
    "cell_colors = [['0.75']*len(columns)]\n",
    "cell_text.append(['000-01322', 'Exmouth', 'Category 3'])\n",
    "cell_text.append(['000-06481', 'Exmouth', 'Category 5'])\n",
    "cell_text.append(['012-06287', 'Broome', 'Category 3'])\n",
    "cell_text.append(['012-03435', 'Broome', 'Category 5'])\n",
    "cell_text.append(['006-00850', 'Karratha', 'Category 3'])\n",
    "cell_text.append(['009-07603', 'Karratha', 'Category 5'])\n",
    "cell_text.append(['003-03693', 'Port Hedland', 'Category 3'])\n",
    "cell_text.append(['000-08534', 'Port Hedland', 'Category 5'])\n",
    "cell_colors.append(['w']*len(columns))\n",
    "cell_colors.append(['w']*len(columns))\n",
    "cell_colors.append(['w']*len(columns))\n",
    "cell_colors.append(['w']*len(columns))\n",
    "cell_colors.append(['w']*len(columns))\n",
    "cell_colors.append(['w']*len(columns))\n",
    "cell_colors.append(['w']*len(columns))\n",
    "cell_colors.append(['w']*len(columns))\n",
    "the_table = plt.table(cellText=cell_text, loc='center',\n",
    "                      fontsize=12, cellColours=cell_colors)\n",
    "the_table.set_zorder(10)\n",
    "the_table.auto_set_font_size(False)\n",
    "the_table.set_fontsize(12)\n",
    "the_table.scale(1, 2)\n",
    "ax.set_title(\"Tropical cyclone scenarios for Severe Wind Hazard Assessment\", fontsize=12)\n",
    "plt.show()"
   ]
  },
  {
   "cell_type": "markdown",
   "metadata": {},
   "source": [
    "To review an event, change the event number in the following cell. This will load the different output file for inspection."
   ]
  },
  {
   "cell_type": "code",
   "execution_count": 4,
   "metadata": {
    "collapsed": true
   },
   "outputs": [],
   "source": [
    "event_num = 'bsh301999'\n",
    "data_path = \"X:/georisk/HaRIA_B_Wind/projects/dfes_swha/data/processed/HazImp/20181008/\"\n",
    "#data_path = \"C:/WorkSpace/DFES/data/processed/HazImp/20181008/\"\n",
    "output_path = pjoin(data_path, event_num)\n",
    "try:\n",
    "    os.makedirs(output_path)\n",
    "except:\n",
    "    pass\n",
    "event_file = pjoin(data_path, \"DFES_{0}.csv\".format(event_num))\n",
    "YEAR_ORDER = ['1891 - 1913', '1914 - 1946', '1947 - 1961', '1962 - 1981', '1982 - 1996', '1997 - present']\n",
    "ROOF_TYPE_ORDER = ['Metal Sheeting', 'Tiles', 'Fibro / asbestos cement sheeting']\n",
    "WALL_TYPE_ORDER = ['Double Brick', 'Fibro / asbestos cement sheeting', 'Timber', 'Brick Veneer']"
   ]
  },
  {
   "cell_type": "code",
   "execution_count": 5,
   "metadata": {},
   "outputs": [],
   "source": [
    "df = pd.read_csv(event_file)\n",
    "#df = df[df['LGA_NAME']=='Exmouth (S)']\n",
    "df"
   ]
  },
  {
   "cell_type": "markdown",
   "metadata": {},
   "source": [
    "Start with plotting the structural loss ratio against 10m wind speed. This should intuitively follow the vulnerability functions used in _HazImp_. Points are coloured by the construction age. "
   ]
  },
  {
   "cell_type": "code",
   "execution_count": 7,
   "metadata": {},
   "outputs": [],
   "source": [
    "g = sns.lmplot(x='0.2s gust at 10m height m/s',\n",
    "               y='structural_loss_ratio', \n",
    "               hue='YEAR_BUILT',\n",
    "               hue_order=YEAR_ORDER,\n",
    "               data=df,\n",
    "               fit_reg=False,\n",
    "               aspect=2, legend_out=False)\n",
    "\n",
    "g.ax.set_ylabel(\"Structural loss ratio\")\n",
    "g.ax.set_ylim((0, 1))\n",
    "g.ax.set_xlim((20, 90))\n",
    "g.ax.legend(title=\"Construction era\", frameon=True)\n",
    "plt.savefig(pjoin(output_path, \"SLR_Windspeed_by_age.pdf\"), dpi=600)"
   ]
  },
  {
   "cell_type": "markdown",
   "metadata": {},
   "source": [
    "Examine the distribution of structural loss ratio within each contruction era, and colour the points by roof type (out of interests sake). For lower intensity events, we expect the newer construction (post-1982) to experience very low or no damage, since these events will generate wind speeds that are well below the design wind speeds for the region."
   ]
  },
  {
   "cell_type": "code",
   "execution_count": 8,
   "metadata": {
    "scrolled": false
   },
   "outputs": [],
   "source": [
    "fig, ax = plt.subplots()\n",
    "sns.stripplot(x='YEAR_BUILT', y='structural_loss_ratio', hue='ROOF_TYPE', order=YEAR_ORDER, data=df, jitter=True,\n",
    "              ax=ax)\n",
    "ax.set_xlabel(\"Construction era\")\n",
    "ax.set_ylim((0, 1))\n",
    "\n",
    "ax.set_ylabel(\"Structural loss ratio\")\n",
    "ax.legend(title=\"Roof material\", frameon=True)\n",
    "fig.savefig(pjoin(output_path, \"SLR_by_age.pdf\"), dpi=600, bbox_inches=\"tight\")"
   ]
  },
  {
   "cell_type": "markdown",
   "metadata": {},
   "source": [
    "Now look at the structural loss in dollar terms. This is less important for an EM perspective, but serves as a cursory check that the outputs are sensible. Replacement costs are based on quantity surveyor data and represent 2017 values."
   ]
  },
  {
   "cell_type": "code",
   "execution_count": 9,
   "metadata": {
    "scrolled": false
   },
   "outputs": [],
   "source": [
    "g= sns.lmplot(x='0.2s gust at 10m height m/s',\n",
    "              y='structural_loss', \n",
    "              hue='YEAR_BUILT', \n",
    "              hue_order=YEAR_ORDER,\n",
    "              data=df,\n",
    "              fit_reg=False,\n",
    "              aspect=2, legend_out=False)\n",
    "\n",
    "ylabels = g.ax.get_yticks()\n",
    "g.ax.set_yticklabels([\"${:0,.0f}\".format(y) for y in ylabels])\n",
    "g.ax.set_ylabel(\"Structural loss ($)\")\n",
    "g.ax.set_xlim((20, 90))\n",
    "g.ax.legend(title=\"Construction era\", frameon=True)\n",
    "plt.savefig(pjoin(output_path, \"SLC_Windspeed_by_age.pdf\"), dpi=600, bbox_inches=\"tight\")"
   ]
  },
  {
   "cell_type": "code",
   "execution_count": 10,
   "metadata": {},
   "outputs": [],
   "source": [
    "\" ${:,.2f}\".format(df.structural_loss.sum())"
   ]
  },
  {
   "cell_type": "code",
   "execution_count": 11,
   "metadata": {},
   "outputs": [],
   "source": [
    "ax = sns.distplot(df['structural_loss_ratio'], bins=np.arange(0, 1.01, 0.05), kde=False, axlabel=\"Structural loss ratio\",\n",
    "                  hist_kws={\"linewidth\":3, \"width\":0.04})\n",
    "\n",
    "ax.set_ylabel(\"Count\")\n",
    "ax.set_xlim((0.0, 1.0))\n",
    "ax.set_yscale('log')"
   ]
  },
  {
   "cell_type": "code",
   "execution_count": 12,
   "metadata": {},
   "outputs": [],
   "source": [
    "bins=[0.0, 0.02, 0.1, 0.2, 0.5, 1.0]\n",
    "labels=['Negligible', 'Slight', 'Moderate', 'Extensive', 'Complete']\n",
    "df['Damage state'] = pd.cut(df['structural_loss_ratio'], bins, right=False, labels=labels)\n",
    "\n",
    "df[df['Damage state'].isin(['Moderate', 'Extensive','Complete'])]['SA2_NAME'].value_counts()"
   ]
  },
  {
   "cell_type": "code",
   "execution_count": 13,
   "metadata": {
    "collapsed": true
   },
   "outputs": [],
   "source": [
    "damage_states = df.groupby(['Damage state', 'LGA_NAME']).count()['LID']"
   ]
  },
  {
   "cell_type": "code",
   "execution_count": 12,
   "metadata": {
    "collapsed": true
   },
   "outputs": [],
   "source": [
    "damage_building_type = df.groupby(['Damage state', 'YEAR_BUILT', 'WALL_TYPE', 'ROOF_TYPE']).count()['LID']"
   ]
  },
  {
   "cell_type": "code",
   "execution_count": 13,
   "metadata": {
    "collapsed": true
   },
   "outputs": [],
   "source": [
    "damage_building_type.to_excel(pjoin(output_path, \"{0}_dmgstate_building_type.xlsx\".format(event_num)))"
   ]
  },
  {
   "cell_type": "code",
   "execution_count": 14,
   "metadata": {
    "collapsed": true
   },
   "outputs": [],
   "source": [
    "damage_states.to_excel(pjoin(output_path, \"{0}_dmgstate.xlsx\".format(event_num)))"
   ]
  },
  {
   "cell_type": "code",
   "execution_count": 13,
   "metadata": {},
   "outputs": [],
   "source": [
    "sns.countplot(x='Damage state', data=df, order=labels, palette=dmgpal)\n",
    "plt.savefig(pjoin(output_path, \"damage_state.pdf\"), dpi=600, bbox_inches=\"tight\")"
   ]
  },
  {
   "cell_type": "code",
   "execution_count": 14,
   "metadata": {},
   "outputs": [],
   "source": [
    "ax = sns.countplot(x='Damage state', data=df, order=labels, hue='YEAR_BUILT', hue_order=YEAR_ORDER)\n",
    "ax.legend(title=\"Construction era\", frameon=True, loc=1)\n",
    "plt.savefig(pjoin(output_path, \"damage_state_by_age.pdf\"), dpi=600, bbox_inches=\"tight\")"
   ]
  },
  {
   "cell_type": "code",
   "execution_count": 20,
   "metadata": {},
   "outputs": [],
   "source": [
    "df.pivot_table(index='YEAR_BUILT', columns='Damage state', aggfunc='size', fill_value=0)"
   ]
  },
  {
   "cell_type": "code",
   "execution_count": 16,
   "metadata": {},
   "outputs": [],
   "source": [
    "damage_state_lga = df.groupby(['Damage state', 'LGA_NAME'])\n",
    "df.pivot_table(index='LGA_NAME', columns='Damage state', aggfunc='size', fill_value=0)"
   ]
  },
  {
   "cell_type": "code",
   "execution_count": 19,
   "metadata": {},
   "outputs": [],
   "source": [
    "damage_building_type = df.groupby(['Damage state', 'YEAR_BUILT', 'WALL_TYPE', 'ROOF_TYPE'])\n",
    "df.pivot_table(index=['Damage state', 'YEAR_BUILT'], columns=['WALL_TYPE', 'ROOF_TYPE'], aggfunc='size', fill_value=0)"
   ]
  },
  {
   "cell_type": "code",
   "execution_count": 17,
   "metadata": {},
   "outputs": [],
   "source": [
    "ax = sns.pointplot(x='Damage state', y='structural_loss_ratio', data=df, order=labels,\n",
    "                   hue='YEAR_BUILT', hue_order=YEAR_ORDER)\n",
    "ax.set_ylabel(\"Structural loss ratio\")\n",
    "ax.set_ylim((0, 1))\n",
    "ax.legend(title=\"Construction era\", frameon=True)\n",
    "plt.savefig(pjoin(output_path, \"SLR_by_damage_state.png\"), bbox_inches=\"tight\")"
   ]
  },
  {
   "cell_type": "markdown",
   "metadata": {},
   "source": [
    "Building age profile for the community. "
   ]
  },
  {
   "cell_type": "code",
   "execution_count": 18,
   "metadata": {},
   "outputs": [],
   "source": [
    "fig, ax = plt.subplots()\n",
    "sns.countplot(x='YEAR_BUILT', order=YEAR_ORDER, data=df, ax=ax)\n",
    "ax.set_xlabel(\"Construction era\")"
   ]
  },
  {
   "cell_type": "markdown",
   "metadata": {},
   "source": [
    "Structural loss ratio again. This time, we've plotted the mean structural loss ratio for each constuction era. The vertical bar indicates the standard deviation range in the loss outcomes for each category. "
   ]
  },
  {
   "cell_type": "code",
   "execution_count": 91,
   "metadata": {},
   "outputs": [],
   "source": [
    "fig,ax = plt.subplots()\n",
    "sns.barplot(x='YEAR_BUILT', y='structural_loss_ratio', order=YEAR_ORDER, data=df, ax=ax)\n",
    "ax.set_ylabel(\"Mean structural loss ratio\")\n",
    "ax.set_xlabel(\"Construction era\")\n",
    "ax.set_ylim((0, 1))\n",
    "plt.savefig(pjoin(output_path, \"Mean_SLR_by_age.png\"), bbox_inches=\"tight\")"
   ]
  },
  {
   "cell_type": "markdown",
   "metadata": {},
   "source": [
    "Breakdown of structural loss ratio, building age and roof type. "
   ]
  },
  {
   "cell_type": "code",
   "execution_count": 92,
   "metadata": {
    "scrolled": false
   },
   "outputs": [],
   "source": [
    "g = sns.FacetGrid(df, row='YEAR_BUILT', hue='ROOF_TYPE', aspect=2)\n",
    "\n",
    "g = g.map(sns.barplot, 'ROOF_TYPE', 'structural_loss_ratio', order=ROOF_TYPE_ORDER)"
   ]
  },
  {
   "cell_type": "code",
   "execution_count": 93,
   "metadata": {},
   "outputs": [],
   "source": [
    "g = sns.FacetGrid(df, row='YEAR_BUILT', hue='WALL_TYPE', aspect=2)\n",
    "\n",
    "g = g.map(sns.barplot, 'WALL_TYPE', 'structural_loss_ratio', order=WALL_TYPE_ORDER)"
   ]
  },
  {
   "cell_type": "code",
   "execution_count": null,
   "metadata": {
    "collapsed": true
   },
   "outputs": [],
   "source": []
  }
 ],
 "metadata": {
  "kernelspec": {
   "display_name": "Python 2",
   "language": "python",
   "name": "python2"
  },
  "language_info": {
   "codemirror_mode": {
    "name": "ipython",
    "version": 2
   },
   "file_extension": ".py",
   "mimetype": "text/x-python",
   "name": "python",
   "nbconvert_exporter": "python",
   "pygments_lexer": "ipython2",
   "version": "2.7.13"
  }
 },
 "nbformat": 4,
 "nbformat_minor": 2
}
