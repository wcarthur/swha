{
 "cells": [
  {
   "cell_type": "markdown",
   "metadata": {},
   "source": [
    "# Impact scenario quality control\n",
    "\n",
    "This notebook is intended to provide a review of the impact scenarios generated in the Severe Wind Hazard Assessment project. \n",
    "\n",
    "The impact results are generated using the [_HazImp_](https://github.com/GeoscienceAustralia/hazimp) tool, with TC wind footprints generated from [TCRM](https://github.com/GeoscienceAustralia/tcrm). Scenarios were selected in consultation with Department of Fire and Emergency Services (Western Australia) and the Bureau of Meteorology (Western Australia Regional Office).\n",
    "\n",
    "### Dependencies\n",
    "\n",
    "1. Numpy\n",
    "2. Pandas\n",
    "3. GeoPandas\n",
    "4. Matplotlib\n",
    "5. Seaborn\n",
    "6. HazImp\n",
    "\n",
    "NOTE: I have only successfully installed GeoPandas on a Python 3.6 installation (on a Windows environment). "
   ]
  },
  {
   "cell_type": "code",
   "execution_count": null,
   "metadata": {},
   "outputs": [],
   "source": [
    "%matplotlib notebook\n",
    "\n",
    "import os \n",
    "from os.path import join as pjoin\n",
    "import numpy as np\n",
    "import pandas as pd\n",
    "import geopandas as gpd\n",
    "\n",
    "import matplotlib.pyplot as plt\n",
    "\n",
    "import seaborn as sns\n",
    "sns.set_context('notebook')\n",
    "sns.set_style('darkgrid')"
   ]
  },
  {
   "cell_type": "markdown",
   "metadata": {},
   "source": [
    "The output files for the impact scenarios are stored in the project directory, and are stored as csv files. The vulnerability curves themselves are provided with the HazImp software, so we also import parts of the HazImp code."
   ]
  },
  {
   "cell_type": "code",
   "execution_count": null,
   "metadata": {},
   "outputs": [],
   "source": [
    "from core_hazimp.jobs.vulnerability_model import vuln_sets_from_xml_file"
   ]
  },
  {
   "cell_type": "markdown",
   "metadata": {},
   "source": [
    "The scenarios represent the impacts of category 3 and 5 cyclones on communities in WA's northern coastline. "
   ]
  },
  {
   "cell_type": "code",
   "execution_count": null,
   "metadata": {
    "hide_input": true
   },
   "outputs": [],
   "source": [
    "nrows = 9\n",
    "ncols = 3\n",
    "hcell, wcell = 1., 1.5\n",
    "hpad, wpad = 0.2, 0.25\n",
    "f, ax = plt.subplots(figsize=((nrows*hcell+hpad), (ncols*wcell+wpad)))\n",
    "ax.axis('off')\n",
    "ax.xaxis.set_visible(False)\n",
    "ax.yaxis.set_visible(False)\n",
    "for sp, att in ax.spines.items():\n",
    "    att.set_color('w')\n",
    "    att.set_zorder(0)\n",
    "    \n",
    "titlestr = \"Event number | Location | Intensity \"\n",
    "columns = titlestr.split('|')\n",
    "cell_text = [columns]\n",
    "cell_colors = [['0.75']*len(columns)]\n",
    "cell_text.append(['000-01322', 'Exmouth', 'Category 3'])\n",
    "cell_text.append(['000-06481', 'Exmouth', 'Category 5'])\n",
    "cell_text.append(['012-06287', 'Broome', 'Category 3'])\n",
    "cell_text.append(['012-03435', 'Broome', 'Category 5'])\n",
    "cell_text.append(['006-00850', 'Karratha', 'Category 3'])\n",
    "cell_text.append(['009-07603', 'Karratha', 'Category 5'])\n",
    "cell_text.append(['003-03693', 'Port Hedland', 'Category 3'])\n",
    "cell_text.append(['000-08534', 'Port Hedland', 'Category 5'])\n",
    "cell_colors.append(['w']*len(columns))\n",
    "cell_colors.append(['w']*len(columns))\n",
    "cell_colors.append(['w']*len(columns))\n",
    "cell_colors.append(['w']*len(columns))\n",
    "cell_colors.append(['w']*len(columns))\n",
    "cell_colors.append(['w']*len(columns))\n",
    "cell_colors.append(['w']*len(columns))\n",
    "cell_colors.append(['w']*len(columns))\n",
    "the_table = plt.table(cellText=cell_text, loc='center',\n",
    "                      fontsize=12, cellColours=cell_colors)\n",
    "the_table.set_zorder(10)\n",
    "the_table.auto_set_font_size(False)\n",
    "the_table.set_fontsize(12)\n",
    "the_table.scale(1, 2)\n",
    "ax.set_title(\"Tropical cyclone scenarios for Severe Wind Hazard Assessment\", fontsize=12)\n",
    "plt.show()"
   ]
  },
  {
   "cell_type": "markdown",
   "metadata": {},
   "source": [
    "To review an event, change the event number in the following cell. This will load the different output file for inspection."
   ]
  },
  {
   "cell_type": "code",
   "execution_count": null,
   "metadata": {},
   "outputs": [],
   "source": [
    "event_num = '000-06481'\n",
    "data_path = \"N:/georisk/HaRIA_B_Wind/projects/dfes_swha/data/processed/HazImp\"\n",
    "event_file = pjoin(data_path, \"DFES_{0}.csv\".format(event_num))\n",
    "YEAR_ORDER = ['1891 - 1913', '1914 - 1946', '1947 - 1961', '1962 - 1981', '1982 - 1996', '1997 - present']\n",
    "ROOF_TYPE_ORDER = ['Metal Sheeting', 'Tiles', 'Fibro / asbestos cement sheeting']"
   ]
  },
  {
   "cell_type": "code",
   "execution_count": null,
   "metadata": {},
   "outputs": [],
   "source": [
    "df = pd.read_csv(event_file)\n",
    "df.columns"
   ]
  },
  {
   "cell_type": "code",
   "execution_count": null,
   "metadata": {},
   "outputs": [],
   "source": [
    "sns.lmplot(x='0.2s gust at 10m height m/s',\n",
    "           y='structural_loss_ratio', \n",
    "           hue='YEAR_BUILT', \n",
    "           data=df,\n",
    "           fit_reg=False,\n",
    "           aspect=2, legend_out=False)"
   ]
  },
  {
   "cell_type": "code",
   "execution_count": null,
   "metadata": {},
   "outputs": [],
   "source": [
    "fig, ax = plt.subplots()\n",
    "sns.stripplot(x='YEAR_BUILT', y='structural_loss_ratio', hue='ROOF_TYPE', order=YEAR_ORDER, data=df, jitter=True,\n",
    "              ax=ax)\n",
    "ax.set_xlabel(\"Construction era\")\n",
    "ax.set_ylabel(\"Structural loss ratio\")"
   ]
  },
  {
   "cell_type": "code",
   "execution_count": null,
   "metadata": {},
   "outputs": [],
   "source": [
    "sns.lmplot(x='0.2s gust at 10m height m/s',\n",
    "           y='structural_loss', \n",
    "           hue='YEAR_BUILT', \n",
    "           data=df,\n",
    "           fit_reg=False,\n",
    "           aspect=2, legend_out=False)"
   ]
  },
  {
   "cell_type": "code",
   "execution_count": null,
   "metadata": {},
   "outputs": [],
   "source": [
    "fig, ax = plt.subplots()\n",
    "sns.countplot(x='YEAR_BUILT', order=YEAR_ORDER, data=df, ax=ax)"
   ]
  },
  {
   "cell_type": "code",
   "execution_count": null,
   "metadata": {},
   "outputs": [],
   "source": [
    "fig,ax = plt.subplots()\n",
    "sns.barplot(x='YEAR_BUILT', y='structural_loss_ratio', order=YEAR_ORDER, data=df, ax=ax)"
   ]
  },
  {
   "cell_type": "code",
   "execution_count": null,
   "metadata": {},
   "outputs": [],
   "source": [
    "g = sns.FacetGrid(df, row='YEAR_BUILT', hue='ROOF_TYPE', aspect=2)\n",
    "\n",
    "g = g.map(sns.barplot, 'ROOF_TYPE', 'structural_loss_ratio', order=ROOF_TYPE_ORDER)"
   ]
  },
  {
   "cell_type": "code",
   "execution_count": null,
   "metadata": {},
   "outputs": [],
   "source": []
  }
 ],
 "metadata": {
  "kernelspec": {
   "display_name": "Python 3",
   "language": "python",
   "name": "python3"
  },
  "language_info": {
   "codemirror_mode": {
    "name": "ipython",
    "version": 3
   },
   "file_extension": ".py",
   "mimetype": "text/x-python",
   "name": "python",
   "nbconvert_exporter": "python",
   "pygments_lexer": "ipython3"
  }
 },
 "nbformat": 4,
 "nbformat_minor": 2
}
