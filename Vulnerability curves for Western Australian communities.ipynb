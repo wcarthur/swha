{
 "cells": [
  {
   "cell_type": "markdown",
   "metadata": {},
   "source": [
    "# Vulnerability curves for Western Australian communities\n",
    "\n",
    "For the Severe Wind Hazard Assessment project (2017-2020), GA is analysing the impacts of severe tropical cyclones on Western Australian communities. Part of this work relies on an understanding of the vulnerability to severe winds of residential buildings in those communities. \n",
    "\n",
    "There are subtle differences in the construction and design of residential buildings in the communities along the northwest coast of WA, and for this reason, GA engaged the services of James Cook University's Cyclone Testing Station (CTS) to refine the suite of heuristic wind vulnerability curves. The heuristic vulnerability models contained in the CTS report (JCU, 2018(b)) represent the best available opinion on the vulnerability of house types in the study areas with which JCU had some experience. They were adjusted to account for wind-borne debris damage that might be incurred by houses situated within suburban environments as opposed to single isolated houses. However, for some house types, there is little or no data or experience available to inform the assessment of vulnerability. In these cases, vulnerability models from Geoscience Australia, 2013 were used without modification."
   ]
  },
  {
   "cell_type": "code",
   "execution_count": 1,
   "metadata": {
    "collapsed": true
   },
   "outputs": [],
   "source": [
    "%matplotlib inline\n",
    "\n",
    "import matplotlib.pyplot as plt\n",
    "import seaborn as sns\n",
    "sns.set_style('whitegrid')\n",
    "sns.set_context(\"poster\")\n",
    "sns.set_palette(\"Paired\", 10)\n",
    "\n",
    "import pandas as pd\n",
    "\n",
    "vuln_file = \"X:/georisk/HaRIA_B_Wind/projects/dfes_swha/data/processed/vulnerability/swha_domestic_wind_vul_curves.csv\"\n",
    "vuln_file = \"E:/Work/DFES/data/vulnerability/swha_domestic_wind_vul_curves.csv\"\n",
    "df = pd.read_csv(vuln_file)\n",
    "regions = pd.unique(df['Region'])\n"
   ]
  },
  {
   "cell_type": "code",
   "execution_count": 2,
   "metadata": {
    "collapsed": true
   },
   "outputs": [],
   "source": [
    "def plotCurves(df, region, units='m/s'):\n",
    "    fig, ax = plt.subplots(1, 1, figsize=(12,6))\n",
    "    iml = df['IML'].dropna().values\n",
    "    if units == 'km/h':\n",
    "        iml *= 3.6\n",
    "        \n",
    "    subsdf = df[df.Region==region]\n",
    "    for idx, row in subsdf.iterrows():\n",
    "        label = '{0}/{1}, {2}'.format(row['Roof material'], row['Wall material'], row['Age'])\n",
    "        ax.plot(iml, row[-38:].values, label=label, lw=2, ls='-.')\n",
    "        \n",
    "    ax.grid(True, which='both')\n",
    "    ax.legend(fontsize='xx-small')\n",
    "    xlabel = \"0.2 second gust wind speed ({0})\".format(units)\n",
    "    ax.set_xlabel(xlabel)\n",
    "    ax.set_ylabel(\"Damage index\")\n",
    "    ax.set_title(\"Residential building vulnerability curves for {0}\".format(region))\n",
    "    fig.tight_layout()\n",
    "    plt.savefig(\"E:/Work/DFES/data/vulnerability/{0} vulnerability.png\".format(region))"
   ]
  },
  {
   "cell_type": "code",
   "execution_count": 4,
   "metadata": {},
   "outputs": [],
   "source": [
    "plotCurves(df, 'Exmouth', 'km/h')"
   ]
  },
  {
   "cell_type": "code",
   "execution_count": null,
   "metadata": {
    "collapsed": true
   },
   "outputs": [],
   "source": []
  }
 ],
 "metadata": {
  "kernelspec": {
   "display_name": "Python 2",
   "language": "python",
   "name": "python2"
  },
  "language_info": {
   "codemirror_mode": {
    "name": "ipython",
    "version": 2
   },
   "file_extension": ".py",
   "mimetype": "text/x-python",
   "name": "python",
   "nbconvert_exporter": "python",
   "pygments_lexer": "ipython2",
   "version": "2.7.13"
  }
 },
 "nbformat": 4,
 "nbformat_minor": 2
}
