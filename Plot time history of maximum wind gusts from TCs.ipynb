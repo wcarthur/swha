{
 "cells": [
  {
   "cell_type": "code",
   "execution_count": 25,
   "metadata": {
    "collapsed": true
   },
   "outputs": [],
   "source": [
    "%matplotlib inline\n",
    "\n",
    "import os\n",
    "from os.path import join as pjoin\n",
    "import matplotlib.pyplot as plt\n",
    "from matplotlib.dates import DateFormatter, YearLocator, date2num\n",
    "from matplotlib.ticker import MultipleLocator\n",
    "from datetime import datetime\n",
    "\n",
    "import pandas as pd\n",
    "import numpy as np\n",
    "from scipy import stats\n",
    "\n",
    "import seaborn as sns\n",
    "sns.set_style('darkgrid')\n",
    "sns.set_context('talk')\n",
    "\n",
    "dateFormat = DateFormatter('%Y')\n",
    "yearLoc = YearLocator(5)"
   ]
  },
  {
   "cell_type": "code",
   "execution_count": 10,
   "metadata": {
    "collapsed": true
   },
   "outputs": [],
   "source": [
    "dataPath = \"C:/WorkSpace/data/derived/tcobs/daily\"\n",
    "site = 5007\n",
    "dataFile = \"bom_{0:06d}.csv\".format(site)"
   ]
  },
  {
   "cell_type": "code",
   "execution_count": 11,
   "metadata": {
    "collapsed": true
   },
   "outputs": [],
   "source": [
    "df = pd.read_csv(pjoin(dataPath, dataFile))"
   ]
  },
  {
   "cell_type": "code",
   "execution_count": 12,
   "metadata": {
    "collapsed": true
   },
   "outputs": [],
   "source": [
    "dt = pd.to_datetime(df['datetime']).values"
   ]
  },
  {
   "cell_type": "code",
   "execution_count": 13,
   "metadata": {
    "collapsed": true
   },
   "outputs": [],
   "source": [
    "start_yr = datetime(1950, 1, 1)\n",
    "end_yr = datetime(2020, 1, 1)"
   ]
  },
  {
   "cell_type": "code",
   "execution_count": 14,
   "metadata": {},
   "outputs": [],
   "source": [
    "fig, ax = plt.subplots(figsize=(12,6))\n",
    "ax.stem(dt, df['gust']*3.6, linefmt='C0--', markerfmt='C0o', basefmt='C0-')\n",
    "ax.set_ylabel(\"Maximum gust (km/h)\")\n",
    "ax.set_xlabel(\"Year\")\n",
    "ax.set_xlim((start_yr, end_yr))\n",
    "ax.set_ylim((0,300))\n",
    "ax.xaxis.set_major_locator(yearLoc)\n",
    "ax.set_title(\"Maximum wind gusts recorded at Learmonth Airport\")\n",
    "#plt.savefig(pjoin(dataPath, \"Geraldton_timeseries.png\"))"
   ]
  },
  {
   "cell_type": "code",
   "execution_count": 38,
   "metadata": {},
   "outputs": [],
   "source": [
    "fig, ax = plt.subplots(figsize=(12,6))\n",
    "\n",
    "sns.distplot(df['gust']*3.6, bins=np.arange(0, 300, 10), kde=False,fit=stats.lognorm)\n",
    "ax.set_xlabel(\"Wind speed (km/h)\")\n",
    "ax.set_ylabel(\"Probability\")\n",
    "ax.legend(labels=[\"Log-normal\", \"Histogram\"])\n",
    "ax.set_xlim((0, 300))"
   ]
  },
  {
   "cell_type": "code",
   "execution_count": null,
   "metadata": {
    "collapsed": true
   },
   "outputs": [],
   "source": [
    "stats.lognorm.fit"
   ]
  }
 ],
 "metadata": {
  "kernelspec": {
   "display_name": "Python 2",
   "language": "python",
   "name": "python2"
  },
  "language_info": {
   "codemirror_mode": {
    "name": "ipython",
    "version": 2
   },
   "file_extension": ".py",
   "mimetype": "text/x-python",
   "name": "python",
   "nbconvert_exporter": "python",
   "pygments_lexer": "ipython2",
   "version": "2.7.13"
  }
 },
 "nbformat": 4,
 "nbformat_minor": 2
}
