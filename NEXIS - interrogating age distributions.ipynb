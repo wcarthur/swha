{
 "cells": [
  {
   "cell_type": "code",
   "execution_count": null,
   "metadata": {},
   "outputs": [],
   "source": [
    "%matplotlib inline\n",
    "import pandas as pd\n",
    "import numpy as np\n",
    "import matplotlib.pyplot as plt\n",
    "\n",
    "from ipywidgets import interact, fixed, Dropdown\n",
    "import ipywidgets as widgets\n",
    "\n",
    "import seaborn as sns\n",
    "sns.set_context(\"poster\")\n",
    "sns.set_style('darkgrid')"
   ]
  },
  {
   "cell_type": "markdown",
   "metadata": {},
   "source": [
    "The source file `WA_Residential_Wind_Exposure_201607_TCRM.CSV` can be found in HPRM D2017-84003. Download a local version (by using the 'Supercopy' option when right-clicking on the record), and change the path to the appropriate folder."
   ]
  },
  {
   "cell_type": "code",
   "execution_count": null,
   "metadata": {},
   "outputs": [],
   "source": [
    "inputFile = \"C:\\WorkSpace\\data\\derived\\exposure\\WA\\WA_Residential_Wind_Exposure_201607_TCRM.CSV\"\n",
    "df = pd.read_csv(inputFile)"
   ]
  },
  {
   "cell_type": "code",
   "execution_count": null,
   "metadata": {},
   "outputs": [],
   "source": [
    "localities = sorted(list(pd.unique(df['UCL_NAME_2011'])))\n",
    "locdropdown = Dropdown(options=localities, description=\"Locality\")\n",
    "ages = sorted(list(pd.unique(df['YEAR_BUILT'])))"
   ]
  },
  {
   "cell_type": "code",
   "execution_count": null,
   "metadata": {},
   "outputs": [],
   "source": [
    "def plotAgeDist(df, locality):\n",
    "    fig, ax = plt.subplots(1, 2, figsize=(16,8))\n",
    "    locdf = df[df['UCL_NAME_2011'] == locality]\n",
    "    sns.countplot(x=\"YEAR_BUILT\", data=locdf, order=ages, ax=ax[0],\n",
    "                 palette=sns.color_palette(\"Set2\", 8))\n",
    "\n",
    "    ax[0].set_xlabel(\"Year built\")\n",
    "    ax[0].set_ylabel(\"Number\")\n",
    "    #locs0, labels0 = fig.xticks()\n",
    "    plt.setp(ax[0].get_xticklabels(), rotation=90)\n",
    "    ax[0].set_title(\"{0} - {1} residential buildings\".format(locality, len(locdf.index)))\n",
    "    \n",
    "    suburblist = locdf[locdf['SUBURB_2015'].notnull()]['SUBURB_2015']\n",
    "    suburbs = sorted(list(pd.unique(suburblist)))\n",
    "    sns.countplot(x='SUBURB_2015', hue='YEAR_BUILT', data=locdf, order=suburbs, hue_order=ages,\n",
    "                  palette=sns.color_palette(\"Set2\", 8),ax=ax[1])\n",
    "    ax[1].set_xlabel(\"Suburb\")\n",
    "    ax[1].set_ylabel(\"Number\")\n",
    "    labels = [item.get_text() for item in ax[1].get_xticklabels()]\n",
    "    \n",
    "    labels = [l.replace(' ', '\\n') for l in labels]\n",
    "\n",
    "    ax[1].set_xticklabels(labels)\n",
    "    locs, labels = plt.xticks()\n",
    "\n",
    "    plt.setp(labels, rotation=90)\n",
    "    l = ax[1].legend(title=\"Year built\", ncol=2)\n",
    "    fig.tight_layout()\n",
    "    plt.show()"
   ]
  },
  {
   "cell_type": "code",
   "execution_count": null,
   "metadata": {},
   "outputs": [],
   "source": [
    "interact(plotAgeDist, df=fixed(df), locality=locdropdown)"
   ]
  },
  {
   "cell_type": "markdown",
   "metadata": {},
   "source": [
    "There's two aspects to the age distribution - communities where there has been substantial growth since the last significant cyclone, and communities with a large proportion of older (pre-1980) era construction. "
   ]
  },
  {
   "cell_type": "markdown",
   "metadata": {},
   "source": [
    "TODO: \n",
    "1. Add a chart that ranks the localities by proportion of a selected age group. The list of age groups is already compiled (`ages`), just need to do the calculations to get proportions for the specified age group.\n",
    "2. Add another figure that plots the predominant age group for each suburb in the locality. If there's a spatial layer of the boundaries for `SUBURB_2015`, then one could plot up a categorised map of the suburbs based on predominant age group."
   ]
  },
  {
   "cell_type": "code",
   "execution_count": null,
   "metadata": {},
   "outputs": [],
   "source": [
    "def plotBySuburb(df, locality):\n",
    "    fig, ax = plt.subplots(1, 1, figsize=(16,12))\n",
    "    locdf = df[df['UCL_NAME_2011'] == locality]\n",
    "    suburblist = locdf[locdf['SUBURB_2015'].notnull()]['SUBURB_2015']\n",
    "    suburbs = sorted(list(pd.unique(suburblist)))\n",
    "    sns.countplot(x='SUBURB_2015', hue='YEAR_BUILT', data=locdf, order=suburbs, hue_order=ages,\n",
    "                  palette=sns.color_palette(\"Set2\", 8),ax=ax)\n",
    "    ax.set_xlabel(\"Suburb\")\n",
    "    ax.set_ylabel(\"Number\")\n",
    "    locs, labels = plt.xticks()\n",
    "    plt.setp(labels, rotation=90)\n",
    "    l = ax.legend(title=\"Year built\", ncol=2)\n",
    "    plt.show()"
   ]
  },
  {
   "cell_type": "code",
   "execution_count": null,
   "metadata": {},
   "outputs": [],
   "source": [
    "locdropdown2 = Dropdown(options=localities, description=\"Locality\")\n",
    "interact(plotBySuburb, df=fixed(df), locality=locdropdown2)"
   ]
  },
  {
   "cell_type": "code",
   "execution_count": null,
   "metadata": {},
   "outputs": [],
   "source": []
  }
 ],
 "metadata": {
  "kernelspec": {
   "display_name": "Python 2",
   "language": "python",
   "name": "python2"
  },
  "language_info": {
   "codemirror_mode": {
    "name": "ipython",
    "version": 2
   },
   "file_extension": ".py",
   "mimetype": "text/x-python",
   "name": "python",
   "nbconvert_exporter": "python",
   "pygments_lexer": "ipython2"
  }
 },
 "nbformat": 4,
 "nbformat_minor": 2
}
