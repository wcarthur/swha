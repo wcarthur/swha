{
 "cells": [
  {
   "cell_type": "markdown",
   "metadata": {},
   "source": [
    "# Interrogating building age distributions\n",
    "\n",
    "This notebook is to explore the distribution of building ages in communities in Western Australia. "
   ]
  },
  {
   "cell_type": "code",
   "execution_count": null,
   "metadata": {},
   "outputs": [],
   "source": [
    "%matplotlib inline\n",
    "\n",
    "from os.path import join as pjoin\n",
    "import pandas as pd\n",
    "import numpy as np\n",
    "import matplotlib.pyplot as plt\n",
    "from matplotlib.colors import ListedColormap\n",
    "\n",
    "from ipywidgets import interact, fixed, Dropdown\n",
    "import ipywidgets as widgets\n",
    "import re\n",
    "import seaborn as sns\n",
    "sns.set_context(\"poster\")\n",
    "sns.set_style('darkgrid')"
   ]
  },
  {
   "cell_type": "markdown",
   "metadata": {},
   "source": [
    "The source file `WA_Residential_Wind_Exposure_2018_TCRM.CSV` can be found in HPRM D2018-6256. Download a local version (by using the 'Supercopy' option when right-clicking on the record), and change the path to the appropriate folder."
   ]
  },
  {
   "cell_type": "code",
   "execution_count": null,
   "metadata": {},
   "outputs": [],
   "source": [
    "inputFile = \"C:\\WorkSpace\\data\\derived\\exposure\\WA\\WA_Residential_Wind_Exposure_2018_TCRM.CSV\"\n",
    "df = pd.read_csv(inputFile)"
   ]
  },
  {
   "cell_type": "code",
   "execution_count": null,
   "metadata": {},
   "outputs": [],
   "source": [
    "localities = sorted(list(pd.unique(df['SA2_NAME'])))"
   ]
  },
  {
   "cell_type": "code",
   "execution_count": null,
   "metadata": {},
   "outputs": [],
   "source": [
    "locdropdown = Dropdown(options=localities, description=\"Locality\")\n",
    "ages = sorted(list(pd.unique(df['YEAR_BUILT'])))"
   ]
  },
  {
   "cell_type": "code",
   "execution_count": null,
   "metadata": {},
   "outputs": [],
   "source": [
    "def plotAgeDist(df, locality):\n",
    "    fig, ax = plt.subplots(1, 2, figsize=(16,8))\n",
    "    locdf = df[df['SA2_NAME'] == locality]\n",
    "    sns.countplot(x=\"YEAR_BUILT\", data=locdf, order=ages, ax=ax[0],\n",
    "                 palette=sns.color_palette(\"Set2\", 8))\n",
    "\n",
    "    ax[0].set_xlabel(\"Year built\")\n",
    "    ax[0].set_ylabel(\"Number\")\n",
    "    #locs0, labels0 = fig.xticks()\n",
    "    plt.setp(ax[0].get_xticklabels(), rotation=90)\n",
    "    ax[0].set_title(\"{0} - {1:,} residential buildings\".format(locality, len(locdf.index)))\n",
    "    \n",
    "    suburblist = locdf[locdf['SUBURB'].notnull()]['SUBURB']\n",
    "    suburbs = sorted(list(pd.unique(suburblist)))\n",
    "    sns.countplot(x='SUBURB', hue='YEAR_BUILT', data=locdf, order=suburbs, hue_order=ages,\n",
    "                  palette=sns.color_palette(\"Set2\", 8),ax=ax[1])\n",
    "    ax[1].set_xlabel(\"Suburb\")\n",
    "    ax[1].set_ylabel(\"Number\")\n",
    "    labels = [item.get_text() for item in ax[1].get_xticklabels()]\n",
    "    \n",
    "    labels = [l.replace(' ', '\\n') for l in labels]\n",
    "\n",
    "    ax[1].set_xticklabels(labels)\n",
    "    locs, labels = plt.xticks()\n",
    "\n",
    "    plt.setp(labels, rotation=90)\n",
    "    l = ax[1].legend(title=\"Year built\", ncol=2)\n",
    "    fig.tight_layout()\n",
    "    plt.show()"
   ]
  },
  {
   "cell_type": "code",
   "execution_count": null,
   "metadata": {},
   "outputs": [],
   "source": [
    "interact(plotAgeDist, df=fixed(df), locality=locdropdown)"
   ]
  },
  {
   "cell_type": "markdown",
   "metadata": {},
   "source": [
    "There's two aspects to the age distribution - communities where there has been substantial growth since the last significant cyclone, and communities with a large proportion of older (pre-1980) era construction. "
   ]
  },
  {
   "cell_type": "markdown",
   "metadata": {},
   "source": [
    "TODO: \n",
    "1. Add a chart that ranks the localities by proportion of a selected age group. The list of age groups is already compiled (`ages`), just need to do the calculations to get proportions for the specified age group.\n",
    "2. Add another figure that plots the predominant age group for each suburb in the locality. If there's a spatial layer of the boundaries for `SUBURB_2015`, then one could plot up a categorised map of the suburbs based on predominant age group."
   ]
  },
  {
   "cell_type": "code",
   "execution_count": null,
   "metadata": {},
   "outputs": [],
   "source": [
    "def plotBySuburb(df, locality):\n",
    "    fig, ax = plt.subplots(1, 1, figsize=(16,12))\n",
    "    locdf = df[df['SA2_NAME'] == locality]\n",
    "    suburblist = locdf[locdf['SUBURB'].notnull()]['SUBURB']\n",
    "    suburbs = sorted(list(pd.unique(suburblist)))\n",
    "    sns.countplot(x='SUBURB', hue='YEAR_BUILT', data=locdf, order=suburbs, hue_order=ages,\n",
    "                  palette=sns.color_palette(\"Set2\", 8),ax=ax)\n",
    "    ax.set_xlabel(\"Suburb\")\n",
    "    ax.set_ylabel(\"Number\")\n",
    "    locs, labels = plt.xticks()\n",
    "    plt.setp(labels, rotation=90)\n",
    "    l = ax.legend(title=\"Year built\", ncol=2)\n",
    "    plt.show()"
   ]
  },
  {
   "cell_type": "code",
   "execution_count": null,
   "metadata": {},
   "outputs": [],
   "source": [
    "locdropdown2 = Dropdown(options=localities, description=\"Locality\")\n",
    "interact(plotBySuburb, df=fixed(df), locality=locdropdown2)"
   ]
  },
  {
   "cell_type": "markdown",
   "metadata": {},
   "source": [
    "For the Perth region, we perform the analysis at a larger aggregation, due to the number of suburbs that make up the Greater Perth area."
   ]
  },
  {
   "cell_type": "code",
   "execution_count": null,
   "metadata": {},
   "outputs": [],
   "source": [
    "urbanareas = sorted(list(pd.unique(df['UCL_NAME'])))[1:]\n",
    "cities = sorted(list(pd.unique(df['SA2_NAME'])))\n"
   ]
  },
  {
   "cell_type": "code",
   "execution_count": null,
   "metadata": {},
   "outputs": [],
   "source": [
    "regex = re.compile(r\"\\([A-Z]\\)\")\n",
    "def plotAgeDistCity(df, locality):\n",
    "    fig, ax = plt.subplots(1, 2, figsize=(16,8))\n",
    "    locdf = df[df['UCL_NAME'] == locality]\n",
    "    sns.countplot(x=\"YEAR_BUILT\", data=locdf, order=ages, ax=ax[0],\n",
    "                 palette=sns.color_palette(\"Set2\", 8))\n",
    "\n",
    "    ax[0].set_xlabel(\"Year built\")\n",
    "    ax[0].set_ylabel(\"Number\")\n",
    "    #locs0, labels0 = fig.xticks()\n",
    "    plt.setp(ax[0].get_xticklabels(), rotation=90)\n",
    "    ax[0].set_title(\"{0} - {1:,} residential buildings\".format(locality, len(locdf.index)))\n",
    "    \n",
    "    suburblist = locdf[locdf['SA2_NAME'].notnull()]['SA2_NAME']\n",
    "    suburbs = sorted(list(pd.unique(suburblist)))\n",
    "    sns.countplot(x='SA2_NAME', hue='YEAR_BUILT', data=locdf, order=suburbs, hue_order=ages,\n",
    "                  palette=sns.color_palette(\"Set2\", 8),ax=ax[1])\n",
    "    ax[1].set_xlabel(\"Suburb\")\n",
    "    ax[1].set_ylabel(\"Number\")\n",
    "    labels = [item.get_text() for item in ax[1].get_xticklabels()]\n",
    "    \n",
    "    labels = [re.sub(regex, \"\", l) for l in labels]\n",
    "\n",
    "    ax[1].set_xticklabels(labels)\n",
    "    locs, labels = plt.xticks()\n",
    "\n",
    "    plt.setp(labels, rotation=90)\n",
    "    l = ax[1].legend(title=\"Year built\", ncol=2)\n",
    "    fig.tight_layout()\n",
    "    plt.show()"
   ]
  },
  {
   "cell_type": "code",
   "execution_count": null,
   "metadata": {},
   "outputs": [],
   "source": [
    "locdropdown3 = Dropdown(options=urbanareas, description=\"Urban area\")\n",
    "interact(plotAgeDistCity, df=fixed(df), locality=locdropdown3)"
   ]
  },
  {
   "cell_type": "code",
   "execution_count": null,
   "metadata": {},
   "outputs": [],
   "source": [
    "def plotByCity(df, locality):\n",
    "    fig, ax = plt.subplots(1, 1, figsize=(16,12))\n",
    "    locdf = df[df['UCL_NAME'] == locality]\n",
    "    suburblist = locdf[locdf['LGA_NAME'].notnull()]['LGA_NAME']\n",
    "    suburbs = sorted(list(pd.unique(suburblist)))\n",
    "    sns.countplot(x='LGA_NAME', hue='YEAR_BUILT', data=locdf, order=suburbs, hue_order=ages,\n",
    "                  palette=sns.color_palette(\"Set2\", 8),ax=ax)\n",
    "    ax.set_xlabel(\"Local Government Area\")\n",
    "    ax.set_ylabel(\"Number\")\n",
    "    \n",
    "    labels = [item.get_text() for item in ax.get_xticklabels()]\n",
    "    labels = [re.sub(regex, \"\", l) for l in labels]\n",
    "    ax.set_xticklabels(labels)\n",
    "    locs, labels = plt.xticks()\n",
    "    plt.setp(labels, rotation=90)\n",
    "    l = ax.legend(title=\"Year built\", ncol=2)\n",
    "    plt.show()\n",
    "    \n",
    "locdropdown4 = Dropdown(options=urbanareas, description=\"Region\")\n",
    "interact(plotByCity, df=fixed(df), locality=locdropdown4)"
   ]
  },
  {
   "cell_type": "code",
   "execution_count": null,
   "metadata": {},
   "outputs": [],
   "source": [
    "locdf = df[df['UCL_NAME'] == 'Geraldton']\n",
    "suburbs = locdf.groupby(['SUBURB', 'YEAR_BUILT']).size()\n",
    "ageprofile = suburbs.groupby(level=0).apply(lambda x: 100*x/float(x.sum()))\n",
    "\n",
    "f,ax = plt.subplots()\n",
    "cmap = ListedColormap(sns.color_palette(\"Set2\", 7).as_hex())\n",
    "ageprofile.unstack().plot(kind='barh', stacked=True, ax=ax, cmap=cmap)\n",
    "ax.set_xlabel(\"Percentage\")\n",
    "ax.set_ylabel(\"Suburb\")\n",
    "labels = [item.get_text() for item in ax.get_yticklabels()]\n",
    "labels = [l.title() for l in labels]\n",
    "ax.set_yticklabels(labels)\n",
    "ax.legend(loc='upper center', bbox_to_anchor=(0.5, -0.1),\n",
    "          fancybox=True, shadow=True, ncol=7)"
   ]
  },
  {
   "cell_type": "code",
   "execution_count": null,
   "metadata": {},
   "outputs": [],
   "source": [
    "urbanareas = sorted(list(pd.unique(df['UCL_NAME'])))[1:]\n",
    "cities = sorted(list(pd.unique(df['SA2_NAME'])))\n",
    "def plotByCity(df, locality):\n",
    "    locdf = df[df['UCL_NAME'] == locality]\n",
    "    suburbs = locdf.groupby(['SUBURB', 'YEAR_BUILT']).size()\n",
    "    ageprofile = suburbs.groupby(level=0).apply(lambda x: 100*x/float(x.sum()))\n",
    "    nsuburbs=len(suburbs)\n",
    "    f,ax = plt.subplots() #figsize=(12, nsuburbs/12))\n",
    "    cmap = ListedColormap(sns.color_palette(\"Set2\", 7).as_hex())\n",
    "    ageprofile.unstack().plot(kind='barh', stacked=True, ax=ax, cmap=cmap)\n",
    "    ax.set_xlabel(\"Percentage\")\n",
    "    ax.set_xlim((0,100))\n",
    "    ax.set_ylabel(\"Suburb\")\n",
    "    labels = [item.get_text() for item in ax.get_yticklabels()]\n",
    "    ax.set_yticklabels([re.sub(regex, \"\", l).title() for l in labels])\n",
    "    ax.legend(loc='upper center', bbox_to_anchor=(0.5, -0.1),\n",
    "              fancybox=True, shadow=True, ncol=7)\n",
    "    plt.show()\n",
    "    \n",
    "locdropdown5 = Dropdown(options=urbanareas, description=\"Region\")\n",
    "interact(plotByCity, df=fixed(df), locality=locdropdown5)"
   ]
  },
  {
   "cell_type": "code",
   "execution_count": null,
   "metadata": {},
   "outputs": [],
   "source": [
    "sa2 = df.groupby(['SA2_CODE','YEAR_BUILT',]).size().unstack(level=1)\n",
    "#sa2ageprofile = sa2.groupby(level=0).apply(lambda x: 100*x/float(x.sum()))"
   ]
  },
  {
   "cell_type": "code",
   "execution_count": null,
   "metadata": {},
   "outputs": [],
   "source": [
    "sa2"
   ]
  },
  {
   "cell_type": "code",
   "execution_count": null,
   "metadata": {},
   "outputs": [],
   "source": [
    "sa2['PROP_1980'] = sa2[ages[:4]].sum(axis=1)/sa2[ages].sum(axis=1)\n",
    "#sa2['TOTAL'] = sa2[ages].sum(axis=1)"
   ]
  },
  {
   "cell_type": "code",
   "execution_count": null,
   "metadata": {},
   "outputs": [],
   "source": [
    "sa2.fillna(0).to_csv(\"C:\\WorkSpace\\data\\derived\\exposure\\WA\\SA2_building_age.csv\")"
   ]
  },
  {
   "cell_type": "code",
   "execution_count": null,
   "metadata": {},
   "outputs": [],
   "source": [
    "sa1 = df.groupby(['SA1_CODE', 'YEAR_BUILT']).size()\n",
    "sa1ageprofile = sa1.groupby(level=0).apply(lambda x: 100*x/float(x.sum()))\n",
    "sa1ageprofile"
   ]
  },
  {
   "cell_type": "code",
   "execution_count": null,
   "metadata": {},
   "outputs": [],
   "source": [
    "sa1 = df.groupby(['SA1_CODE', 'YEAR_BUILT']).size().unstack(level=1)\n",
    "sa1['PROP_1980'] = sa1[ages[:4]].sum(axis=1)/sa1[ages].sum(axis=1)\n",
    "sa1.fillna(0).to_csv(\"C:\\WorkSpace\\data\\derived\\exposure\\WA\\SA1_building_age.csv\")"
   ]
  }
 ],
 "metadata": {
  "kernelspec": {
   "display_name": "Python 2",
   "language": "python",
   "name": "python2"
  },
  "language_info": {
   "codemirror_mode": {
    "name": "ipython",
    "version": 2
   },
   "file_extension": ".py",
   "mimetype": "text/x-python",
   "name": "python",
   "nbconvert_exporter": "python",
   "pygments_lexer": "ipython2"
  }
 },
 "nbformat": 4,
 "nbformat_minor": 2
}
