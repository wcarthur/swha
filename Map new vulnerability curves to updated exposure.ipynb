{
 "cells": [
  {
   "cell_type": "markdown",
   "metadata": {},
   "source": [
    "# Map residential building vulnerability curves to individual buildings\n",
    "\n",
    "This notebook maps the modified building vulnerability relations to the augmented NEXIS data for SWHA. \n",
    "\n",
    "The building vulnerability curves were provided by the Cyclone Testing Station (James Cook University), while the exposure data has been augmented to include U.S. Navy block houses in Exmouth, which were previously attributed with tile roofs. "
   ]
  },
  {
   "cell_type": "code",
   "execution_count": 1,
   "metadata": {
    "collapsed": true
   },
   "outputs": [],
   "source": [
    "%matplotlib inline\n",
    "\n",
    "from os.path import join as pjoin\n",
    "import pandas as pd\n",
    "import numpy as np\n",
    "import seaborn as sns\n",
    "import matplotlib.pyplot as plt"
   ]
  },
  {
   "cell_type": "code",
   "execution_count": 2,
   "metadata": {
    "collapsed": true
   },
   "outputs": [],
   "source": [
    "project_path = \"X:/georisk/HaRIA_B_Wind/projects/dfes_swha/data\"\n",
    "exp_file = \"processed/exposure/WA_Residential_Exposure_2018.csv\"\n",
    "vul_file = \"processed/vulnerability/swha_domestic_wind_vul_curves.csv\"\n",
    "\n",
    "exp_df = pd.read_csv(pjoin(project_path, exp_file))\n",
    "vul_df = pd.read_csv(pjoin(project_path, vul_file))"
   ]
  },
  {
   "cell_type": "code",
   "execution_count": 3,
   "metadata": {},
   "outputs": [],
   "source": [
    "exp_df['YEAR_BUILT'].unique()"
   ]
  },
  {
   "cell_type": "code",
   "execution_count": 4,
   "metadata": {
    "scrolled": true
   },
   "outputs": [],
   "source": [
    "vul_df.head()"
   ]
  },
  {
   "cell_type": "code",
   "execution_count": 5,
   "metadata": {},
   "outputs": [],
   "source": [
    "wallType = vul_df['Roof material'].unique()\n",
    "roofType = vul_df['Wall material'].unique()\n",
    "ageClass = vul_df['Age'].unique()\n",
    "regions = vul_df['Region'].unique()\n",
    "print(wallType)\n",
    "print(roofType)\n",
    "print(ageClass)\n",
    "print(regions)"
   ]
  },
  {
   "cell_type": "code",
   "execution_count": 6,
   "metadata": {
    "collapsed": true
   },
   "outputs": [],
   "source": [
    "walldict = {'Double Brick': ['Double Brick'],\n",
    "            'Fibro / asbestos cement sheeting':['Fibro / asbestos cement sheeting'],\n",
    "            'Brick Veneer':['Brick Veneer'],\n",
    "            'Timber': ['Timber']}\n",
    "roofdict = {'Metal Sheeting':['Metal Sheeting'],\n",
    "            'Fibro / asbestos cement sheeting':['Fibro / asbestos cement sheeting'],\n",
    "            'Tiles': ['Tiles'],\n",
    "            'Concrete': ['Concrete']}\n",
    "agedict = {'1960 to 1979':['1891 - 1913', '1914 - 1946', '1947 - 1961', '1962 - 1981'],\n",
    "           '1980 to present':['1982 - 1996', '1997 - present']}\n",
    "\n",
    "# Regions are mapped based on LGA_NAME\n",
    "regiondict = {'Perth': [],\n",
    "              'Geraldton': [],\n",
    "              'Carnarvon': ['Carnarvon (S)', 'Upper Gascoyne (S)', 'Shark Bay (S)'],\n",
    "              'Exmouth': ['Exmouth (S)'],\n",
    "              'Karratha': ['Roebourne', 'Karratha (C)', 'Ashburton (S)'],\n",
    "              'Port Hedland': ['East Pilbara (S)', 'Port Hedland (T)', 'South Hedland'],\n",
    "              'Broome': ['Broome (S)', 'Wyndham-East Kimberley (S)', 'Halls Creek (S)', 'Derby-West Kimberley (S)']}\n",
    "\n",
    "newexpdf = exp_df.copy()"
   ]
  },
  {
   "cell_type": "code",
   "execution_count": 7,
   "metadata": {},
   "outputs": [],
   "source": [
    "print(newexpdf['YEAR_BUILT'].isin(agedict['1960 to 1979']).sum())\n",
    "print(newexpdf['ROOF_TYPE'].isin(roofdict['Concrete']).sum())"
   ]
  },
  {
   "cell_type": "code",
   "execution_count": 8,
   "metadata": {
    "scrolled": true
   },
   "outputs": [],
   "source": [
    "nbld = 0\n",
    "for idx, row in vul_df.iterrows():\n",
    "    vfId = row['vulnerabilityFunctionID']\n",
    "    age = row['Age']\n",
    "    roof = row['Roof material']\n",
    "    wall = row['Wall material']\n",
    "    region = row['Region']\n",
    "    print(\"{0}, {1}, {2}, {3}, {4}\".format(vfId, age, roof, wall, region))\n",
    "    agefilter = newexpdf['YEAR_BUILT'].isin(agedict[age])\n",
    "    rooffilter = newexpdf['ROOF_TYPE'].isin(roofdict[roof])\n",
    "    wallfilter = newexpdf['WALL_TYPE'].isin(walldict[wall])\n",
    "    regionfilter = newexpdf['LGA_NAME'].isin(regiondict[region])\n",
    "    print(\"Ages: {0}\".format(agefilter.sum()))\n",
    "    print(\"Roofs: {0}\".format(rooffilter.sum()))\n",
    "    print(\"Walls: {0}\".format(wallfilter.sum()))\n",
    "    print(\"Regions: {0}\".format(regionfilter.sum()))\n",
    "\n",
    "    print((agefilter & rooffilter & wallfilter & regionfilter).sum())\n",
    "    nbld += (agefilter & rooffilter & wallfilter & regionfilter).sum()\n",
    "\n",
    "    newexpdf.at[(agefilter & rooffilter & wallfilter & regionfilter), 'WIND_VULNERABILITY_FUNCTION_ID'] = vfId\n",
    "    newexpdf.at[(regionfilter), 'WIND_REGION_CLASSIFCATION'] = region\n",
    "    newexpdf.at[(newexpdf['YEAR_BUILT'].isin(agedict[age])),'AGE'] = age\n",
    "\n",
    "    \n",
    "print(nbld)"
   ]
  },
  {
   "cell_type": "code",
   "execution_count": 9,
   "metadata": {},
   "outputs": [],
   "source": [
    "newexpdf[['WIND_VULNERABILITY_FUNCTION_ID','LGA_NAME', 'ROOF_TYPE', 'WALL_TYPE', 'AGE']]"
   ]
  },
  {
   "cell_type": "code",
   "execution_count": 10,
   "metadata": {},
   "outputs": [],
   "source": [
    "newexpdf.to_csv(pjoin(project_path, \"processed/exposure/WA_TILES_Residential_Wind_Exposure_notiles.csv\"))"
   ]
  },
  {
   "cell_type": "code",
   "execution_count": 11,
   "metadata": {},
   "outputs": [],
   "source": [
    "oldvfdf = newexpdf[newexpdf['WIND_VULNERABILITY_FUNCTION_ID'].str.startswith('dw')]\n",
    "oldvfdf"
   ]
  },
  {
   "cell_type": "code",
   "execution_count": 12,
   "metadata": {},
   "outputs": [],
   "source": [
    "oldvfdf.groupby([ 'WIND_REGION_CLASSIFCATION','ROOF_TYPE', 'WALL_TYPE','AGE'])['LID'].count()"
   ]
  },
  {
   "cell_type": "code",
   "execution_count": 13,
   "metadata": {
    "collapsed": true
   },
   "outputs": [],
   "source": [
    "outputdf = oldvfdf.groupby([ 'WIND_REGION_CLASSIFCATION','ROOF_TYPE', 'WALL_TYPE','AGE'])['LID'].count()"
   ]
  },
  {
   "cell_type": "code",
   "execution_count": 15,
   "metadata": {},
   "outputs": [],
   "source": [
    "outputdf.to_excel(pjoin(project_path, \"processed/exposure/WA_building_combinations.xlsx\"))"
   ]
  },
  {
   "cell_type": "code",
   "execution_count": null,
   "metadata": {
    "collapsed": true
   },
   "outputs": [],
   "source": []
  }
 ],
 "metadata": {
  "kernelspec": {
   "display_name": "Python 2",
   "language": "python",
   "name": "python2"
  },
  "language_info": {
   "codemirror_mode": {
    "name": "ipython",
    "version": 2
   },
   "file_extension": ".py",
   "mimetype": "text/x-python",
   "name": "python",
   "nbconvert_exporter": "python",
   "pygments_lexer": "ipython2",
   "version": "2.7.13"
  }
 },
 "nbformat": 4,
 "nbformat_minor": 2
}
